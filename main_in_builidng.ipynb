{
 "cells": [
  {
   "cell_type": "code",
   "execution_count": 28,
   "metadata": {},
   "outputs": [],
   "source": [
    "from configuration import __config__ as cfg\n",
    "import json\n",
    "import os, sys, re"
   ]
  },
  {
   "cell_type": "code",
   "execution_count": 2,
   "metadata": {},
   "outputs": [
    {
     "name": "stdout",
     "output_type": "stream",
     "text": [
      "figmap.json\n"
     ]
    }
   ],
   "source": [
    "print(cfg.figmap)"
   ]
  },
  {
   "cell_type": "code",
   "execution_count": 92,
   "metadata": {},
   "outputs": [],
   "source": [
    "class __main__:\n",
    "    def __init__(self, JSON_FOLDER=None, JSON={}):\n",
    "        self.json_dict = __main__.read(JSON_FOLDER, JSON)\n",
    "        \n",
    "    def read(JSON_FOLDER = \"\", JSON={}):\n",
    "        if JSON_FOLDER == None:\n",
    "            try:\n",
    "                return JSON\n",
    "            except:\n",
    "                print(\"Unexpected error:\", sys.exc_info()[0])\n",
    "        else:\n",
    "            with open(os.path.join(sys.path[0], \"figmap.json\")) as f:\n",
    "                data = json.loads(f.read())\n",
    "            return data\n",
    "    \n",
    "    # Get the json dict and make a conversion to a JSON based CSS\n",
    "    def elements_css(self, children=[]):\n",
    "        json_dict = self.json_dict\n",
    "\n",
    "        if children != []:\n",
    "            json_dict = children\n",
    "            \n",
    "        for e in json_dict:\n",
    "            if (e[\"type\"] == \"COMPONENT_SET\"):\n",
    "                value = self.elements_css(e[\"children\"])\n",
    "            else:\n",
    "                if(e[\"children\"] != []):\n",
    "                    value = self.elements_css(e[\"children\"])                    \n",
    "                for attr in e:\n",
    "                    if attr != \"children\":\n",
    "                        print(attr,\":\", e[attr])\n",
    "                        \n",
    "    # Returns a string based on a CSS format from an JSON obj\n",
    "    # JSON = { '.something || #something':{ 'attribute': 'params' } }\n",
    "    # Returns = \".something || #something  { attribute: params; }\"\n",
    "    def css_sify(self, obj):\n",
    "        # I'll take the object and dump it.\n",
    "        string = json.dumps(obj)\n",
    "        for e in obj:\n",
    "            string = json.dumps(e) + json.dumps(obj[e])\n",
    "            string = re.sub('\"', '', re.sub(r'}$', ';}', re.sub(',', ';', string)))\n",
    "            print(string)\n",
    "            \n",
    "        return string\n",
    "        \n",
    "    def __attr_list__(self):\n",
    "        obj = self.json_dict\n",
    "        for e in obj:\n",
    "            for attr in e:\n",
    "                if(attr != \"children\"):\n",
    "                    print(attr, e[attr])\n",
    "                    \n",
    "                        "
   ]
  },
  {
   "cell_type": "code",
   "execution_count": 93,
   "metadata": {},
   "outputs": [],
   "source": [
    "parser = __main__(JSON_FOLDER=cfg.figmap)"
   ]
  },
  {
   "cell_type": "code",
   "execution_count": 94,
   "metadata": {},
   "outputs": [
    {
     "name": "stdout",
     "output_type": "stream",
     "text": [
      "#btn1{background: red; border-radius: 1rem;}\n"
     ]
    },
    {
     "data": {
      "text/plain": [
       "'#btn1{background: red; border-radius: 1rem;}'"
      ]
     },
     "execution_count": 94,
     "metadata": {},
     "output_type": "execute_result"
    }
   ],
   "source": [
    "# Demonstration \n",
    "parser.css_sify({ '#btn1':{ 'background': 'red', 'border-radius': '1rem' } })"
   ]
  },
  {
   "cell_type": "code",
   "execution_count": 95,
   "metadata": {},
   "outputs": [
    {
     "name": "stdout",
     "output_type": "stream",
     "text": [
      "name Input\n",
      "type COMPONENT_SET\n",
      "absoluteTransform [[1, 0, 3965], [0, 1, 833]]\n",
      "backgroundStyleId \n",
      "backgrounds []\n",
      "blendMode PASS_THROUGH\n",
      "bottomLeftRadius 5\n",
      "bottomRightRadius 5\n",
      "clipsContent True\n",
      "constrainProportions False\n",
      "constraints {'horizontal': 'MIN', 'vertical': 'MIN'}\n",
      "cornerRadius 5\n",
      "cornerSmoothing 0\n",
      "counterAxisAlignItems MIN\n",
      "counterAxisSizingMode FIXED\n",
      "dashPattern [10, 5]\n",
      "effectStyleId \n",
      "effects []\n",
      "expanded True\n",
      "exportSettings []\n",
      "fillStyleId \n",
      "fills []\n",
      "gridStyleId \n",
      "guides []\n",
      "height 1356\n",
      "isMask False\n",
      "itemSpacing 0\n",
      "layoutAlign INHERIT\n",
      "layoutGrids []\n",
      "layoutGrow 0\n",
      "layoutMode NONE\n",
      "locked False\n",
      "numberOfFixedChildren 0\n",
      "opacity 1\n",
      "overflowDirection NONE\n",
      "overlayBackground {'type': 'NONE'}\n",
      "overlayBackgroundInteraction NONE\n",
      "overlayPositionType CENTER\n",
      "paddingBottom 0\n",
      "paddingLeft 0\n",
      "paddingRight 0\n",
      "paddingTop 0\n",
      "parent {'id': '1:2575'}\n",
      "primaryAxisAlignItems MIN\n",
      "primaryAxisSizingMode AUTO\n",
      "relativeTransform [[1, 0, 98], [0, 1, 231]]\n",
      "removed False\n",
      "rotation 0\n",
      "strokeAlign INSIDE\n",
      "strokeCap NONE\n",
      "strokeJoin MITER\n",
      "strokeMiterLimit 4\n",
      "strokeStyleId \n",
      "strokeWeight 1\n",
      "strokes [{'type': 'SOLID', 'visible': True, 'opacity': 1, 'blendMode': 'NORMAL', 'color': {'r': 0.48235294222831726, 'g': 0.3803921639919281, 'b': 1}}]\n",
      "topLeftRadius 5\n",
      "topRightRadius 5\n",
      "visible True\n",
      "width 1191\n",
      "x 98\n",
      "y 231\n"
     ]
    }
   ],
   "source": [
    "parser.__attr_list__()"
   ]
  },
  {
   "cell_type": "code",
   "execution_count": null,
   "metadata": {},
   "outputs": [],
   "source": []
  }
 ],
 "metadata": {
  "kernelspec": {
   "display_name": "Python 3",
   "language": "python",
   "name": "python3"
  },
  "language_info": {
   "codemirror_mode": {
    "name": "ipython",
    "version": 3
   },
   "file_extension": ".py",
   "mimetype": "text/x-python",
   "name": "python",
   "nbconvert_exporter": "python",
   "pygments_lexer": "ipython3",
   "version": "3.8.5"
  }
 },
 "nbformat": 4,
 "nbformat_minor": 4
}
